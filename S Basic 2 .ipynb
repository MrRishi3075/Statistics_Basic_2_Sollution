{
 "cells": [
  {
   "cell_type": "markdown",
   "id": "6508f887-a8ab-4e79-91ec-28c12e5b5daa",
   "metadata": {},
   "source": [
    "### Q1. What are the three measures of central tendency?"
   ]
  },
  {
   "cell_type": "markdown",
   "id": "9c772d1d-7771-450c-91e3-657e97df5030",
   "metadata": {},
   "source": [
    "#### Measures of Central Tendency:\n",
    "\n",
    "1. Mean: The average of all data points.\n",
    "2. Median: The middle value when data is sorted.\n",
    "3. Mode: The most frequently occurring value."
   ]
  },
  {
   "cell_type": "code",
   "execution_count": null,
   "id": "da3c851d-27ba-4ad5-9fcc-f279b7f7fdbf",
   "metadata": {},
   "outputs": [],
   "source": []
  },
  {
   "cell_type": "markdown",
   "id": "831c2a17-e849-4d11-a906-29bc6ec851ac",
   "metadata": {},
   "source": [
    "### Q2. What is the difference between the mean, median, and mode? How are they used to measure the central tendency of a dataset?"
   ]
  },
  {
   "cell_type": "markdown",
   "id": "839a824f-d7f3-4804-9852-cd903783c638",
   "metadata": {},
   "source": [
    "#### Differences:\n",
    "\n",
    "* Mean: Sensitive to extreme values, affected by outliers.\n",
    "*  Median: Less sensitive to extreme values, especially useful for skewed distributions.\n",
    "* Mode: Applicable to both numerical and categorical data, may have multiple modes.\n",
    "\n",
    "#### Use in Central Tendency:\n",
    "\n",
    "* Mean: Commonly used, especially with symmetric distributions.\n",
    "* Median: Useful for skewed distributions or when outliers are present.\n",
    "* Mode: Describes the most frequent value, relevant for categorical data."
   ]
  },
  {
   "cell_type": "code",
   "execution_count": null,
   "id": "09783003-cab9-4196-9c9e-2de8028a77cf",
   "metadata": {},
   "outputs": [],
   "source": []
  },
  {
   "cell_type": "markdown",
   "id": "7c9f94c5-a9e1-48dd-a2ac-f668c3b41928",
   "metadata": {},
   "source": [
    "### Q3. Measure the three measures of central tendency for the given height data:\n",
    "\n",
    "* [178,177,176,177,178.2,178,175,179,180,175,178.9,176.2,177,172.5,178,176.5]"
   ]
  },
  {
   "cell_type": "markdown",
   "id": "c8ce1aec-598b-423f-b65f-e36b250ae8fb",
   "metadata": {},
   "source": [
    "### Mean = ∑Data Points / Number Of Data Points\n",
    "Mean = 2832.3 / 16\n",
    "Mean = 177.01875\n",
    "\n",
    "Median= Data Point / 2 \n",
    "Median =(175+176) / 2\n",
    "Median= 175.5 , \n",
    "\n",
    "Mode=178"
   ]
  },
  {
   "cell_type": "code",
   "execution_count": null,
   "id": "3ce891f7-3c1a-4884-8840-7bc023c68b73",
   "metadata": {},
   "outputs": [],
   "source": []
  },
  {
   "cell_type": "markdown",
   "id": "b5b78d95-b907-4459-b678-9d8ace88986d",
   "metadata": {},
   "source": [
    "### Q4. Find the standard deviation for the given data:\n",
    "\n",
    "* [178,177,176,177,178.2,178,175,179,180,175,178.9,176.2,177,172.5,178,176.5]\n"
   ]
  },
  {
   "cell_type": "markdown",
   "id": "ff088431-b775-4363-978b-0c68ca93793f",
   "metadata": {},
   "source": [
    "* Mean = 177.01875\n",
    "* Squared Defferance =[  0.98125² = 0.9625765625,  (-0.01875)² = 0.0003515625,  (-1.01875)² = 1.038265625, (-0.01875)² = 0.0003515625 ,1.18125² = 1.3965850625, 0.98125² = 0.9625765625 ,(-2.01875)² = 4.0752640625, 1.98125² = 3.9251900625 ,2.98125² = 8.8876975625 (-1.01875)² = 1.038265625 ,1.88125² = 3.5326925625, (-0.81875)² = 0.6705390625 ,(-0.01875)² = 0.0003515625, (-4.51875)² = 20.4349900625 0.98125² = 0.9625765625 ,(-0.51875)² = 0.2685840625]\n",
    "\n",
    "* Variance = Sum Of Squared Defferance  / Number Of Elements \n",
    "* Variance = 47.9368265625 / 16\n",
    "* Variance = 2.99542666015625.\n",
    "\n",
    "##### Therefore, the variance of the given data is approximately 2.9954."
   ]
  },
  {
   "cell_type": "code",
   "execution_count": null,
   "id": "3067c124-de64-4fc9-86c0-175c031abb4c",
   "metadata": {},
   "outputs": [],
   "source": []
  },
  {
   "cell_type": "markdown",
   "id": "dd7c1f12-fa01-4ee1-9e10-a46a7d2d745a",
   "metadata": {},
   "source": [
    "### Q5. How are measures of dispersion such as range, variance, and standard deviation used to describe the spread of a dataset? Provide an example.\n"
   ]
  },
  {
   "cell_type": "markdown",
   "id": "368c2108-cf66-4f50-81fb-42f1bf564556",
   "metadata": {},
   "source": [
    "#### Measures of Dispersion:\n",
    "\n",
    "1. Range: The difference between the maximum and minimum values.\n",
    "2. Variance: The average of the squared differences from the mean.\n",
    "3. Standard Deviation: The square root of the variance.\n",
    "\n",
    "#### Use in Describing Spread:\n",
    "\n",
    "* Range: Simplest measure, susceptible to outliers.\n",
    "* Variance/Standard Deviation: Provide a more comprehensive measure of how spread out values are from the mean.\n",
    "\n",
    "##### Example:\n",
    "* Consider two datasets:\n",
    "\n",
    "* Dataset A: [1, 2, 3, 4, 100]\n",
    "* Dataset B: [48, 50, 52, 54, 56]\n",
    "##### Both datasets have the same range (99), but the standard deviation for Dataset A is much higher, indicating greater variability."
   ]
  },
  {
   "cell_type": "code",
   "execution_count": null,
   "id": "a3a732e8-b8e0-46ca-b5bb-45751ec58dae",
   "metadata": {},
   "outputs": [],
   "source": []
  },
  {
   "cell_type": "markdown",
   "id": "ed35e111-e8d2-4d29-8e19-2c1a1e201a9d",
   "metadata": {},
   "source": [
    "### Q6. What is a Venn diagram?\n"
   ]
  },
  {
   "cell_type": "markdown",
   "id": "9a08fe73-96e8-4cee-b995-049fb079526b",
   "metadata": {},
   "source": [
    "#### Venn Diagram:\n",
    "* A Venn diagram is a graphical representation used to show all possible logical relations between a finite collection of different sets. Circles or ellipses represent sets, and their overlapping regions show common elements."
   ]
  },
  {
   "cell_type": "code",
   "execution_count": null,
   "id": "00a50d2e-6573-4def-8e4c-f60822fab1fd",
   "metadata": {},
   "outputs": [],
   "source": []
  },
  {
   "cell_type": "markdown",
   "id": "d3e3e816-a053-4173-9856-873749f20319",
   "metadata": {},
   "source": [
    "### Q7. For the two given sets A = (2,3,4,5,6,7) & B = (0,2,6,8,10). Find:\n",
    "* (i) \tA B\n",
    "\n",
    "* (ii)\tA ⋃ B\n"
   ]
  },
  {
   "cell_type": "markdown",
   "id": "b9aadb2d-674b-4234-8c26-0573dfc3ad79",
   "metadata": {},
   "source": [
    "(i)A∩B (Intersection):{2,6}\n",
    "\n",
    "(ii)A∪B (Union): {0,2,3,4,5,6,7,8,10}"
   ]
  },
  {
   "cell_type": "code",
   "execution_count": null,
   "id": "f053a181-c1fb-41c7-b7f2-d5cc61c7f665",
   "metadata": {},
   "outputs": [],
   "source": []
  },
  {
   "cell_type": "markdown",
   "id": "ac0bc277-6f47-4e0c-822f-26d6774c0038",
   "metadata": {},
   "source": [
    "### Q8. What do you understand about skewness in data?\n"
   ]
  },
  {
   "cell_type": "markdown",
   "id": "3e33ba76-598e-4289-a425-a3a9804ec5ff",
   "metadata": {},
   "source": [
    "#### Skewness:\n",
    "* Skewness is a measure of the asymmetry or distortion from the symmetrical bell curve in a statistical distribution. A negative skewness indicates a distribution that is skewed to the left, while positive skewness indicates a distribution skewed to the right."
   ]
  },
  {
   "cell_type": "code",
   "execution_count": null,
   "id": "fa303a21-7022-4e5a-a64e-7e4659595a87",
   "metadata": {},
   "outputs": [],
   "source": []
  },
  {
   "cell_type": "markdown",
   "id": "507dbe80-1200-4437-80cd-9a0f35b4d27b",
   "metadata": {},
   "source": [
    "### Q9. If a data is right skewed then what will be the position of median with respect to mean?\n"
   ]
  },
  {
   "cell_type": "markdown",
   "id": "3d9b5541-4f07-428e-94bc-af8ec0173d5f",
   "metadata": {},
   "source": [
    "#### If the data is right-skewed:\n",
    "\n",
    "* The mean will be greater than the median.\n",
    "* The tail on the right side is longer, pulling the mean in that direction."
   ]
  },
  {
   "cell_type": "code",
   "execution_count": null,
   "id": "29dcaac1-7e48-4b3b-b81f-23d415993369",
   "metadata": {},
   "outputs": [],
   "source": []
  },
  {
   "cell_type": "markdown",
   "id": "ce86df2d-98a8-4822-9082-20d69e619b1a",
   "metadata": {},
   "source": [
    "### Q10. Explain the difference between covariance and correlation. How are these measures used in statistical analysis?\n"
   ]
  },
  {
   "cell_type": "markdown",
   "id": "7224fbc2-5045-45ed-a101-ccf4188d2829",
   "metadata": {},
   "source": [
    "#### Covariance:\n",
    "\n",
    "* Measures the degree to which two variables change together.\n",
    "* Positive covariance indicates a direct relationship, negative covariance indicates an inverse relationship.\n",
    "\n",
    "#### Correlation:\n",
    "\n",
    "* Standardized measure of the strength and direction of the linear relationship between two variables.\n",
    "* Ranges from -1 to 1, where 1 indicates a perfect positive linear relationship, -1 indicates a perfect negative linear relationship, and 0 indicates no linear relationship.\n",
    "\n",
    "#### Use in Statistical Analysis:\n",
    "\n",
    "* Covariance and correlation help quantify the relationship between variables in statistical analysis. Correlation is preferred as it is standardized and provides a more interpretable measure of association."
   ]
  },
  {
   "cell_type": "code",
   "execution_count": null,
   "id": "9b922cc3-e2a3-4c3d-a909-b7b8cba604e0",
   "metadata": {},
   "outputs": [],
   "source": []
  },
  {
   "cell_type": "markdown",
   "id": "8002ce47-3008-4154-949f-9b4dcdc77493",
   "metadata": {},
   "source": [
    "### Q11. What is the formula for calculating the sample mean? Provide an example calculation for a dataset.\n"
   ]
  },
  {
   "cell_type": "markdown",
   "id": "cd5ed138-f694-4f9b-87c8-76fe4e6ac127",
   "metadata": {},
   "source": [
    "Sample Mean Formula:\n",
    "\n",
    "Mean= ∑Data Points / Number of Data Points\n",
    "\n",
    "Example:\n",
    "For the dataset [10,15,20,25,30],\n",
    "Mean = (10+15+20+25+30)/5 ,\n",
    "= 100/5\n",
    "= 20. Ans\n",
    "\n"
   ]
  },
  {
   "cell_type": "code",
   "execution_count": null,
   "id": "ad046cd0-a777-4727-938a-3983c22ae31d",
   "metadata": {},
   "outputs": [],
   "source": []
  },
  {
   "cell_type": "markdown",
   "id": "94eb0db5-8afb-42db-95b0-db21bb0f1158",
   "metadata": {},
   "source": [
    "### Q12. For a normal distribution data what is the relationship between its measure of central tendency?\n"
   ]
  },
  {
   "cell_type": "markdown",
   "id": "1b1a6a0a-91ff-46e1-a29e-328f1b13c793",
   "metadata": {},
   "source": [
    "#### For a normal distribution:\n",
    "\n",
    "* The mean, median, and mode are all equal and located at the center of the distribution.\n",
    "* The distribution is symmetric, and the values are evenly distributed around the central point.\n"
   ]
  },
  {
   "cell_type": "code",
   "execution_count": null,
   "id": "b5b0fd14-d6c1-442b-8fdc-8ed651e43019",
   "metadata": {},
   "outputs": [],
   "source": []
  },
  {
   "cell_type": "markdown",
   "id": "d93e3396-3d9c-4657-a9b8-c77a5487a2d2",
   "metadata": {},
   "source": [
    "### Q13. How is covariance different from correlation?\n"
   ]
  },
  {
   "cell_type": "markdown",
   "id": "461105c8-e36c-4aee-83bc-19352afa7dd2",
   "metadata": {},
   "source": [
    "#### Difference:\n",
    "\n",
    "* Covariance: Measures the degree to which two variables change together. The units are the product of the units of the two variables.\n",
    "\n",
    "* Correlation: Standardized measure of the strength and direction of the linear relationship between two variables. Ranges from -1 to 1, making it unitless and more interpretable."
   ]
  },
  {
   "cell_type": "code",
   "execution_count": null,
   "id": "314ea590-ee00-40a0-a50e-ec64c531bf1f",
   "metadata": {},
   "outputs": [],
   "source": []
  },
  {
   "cell_type": "markdown",
   "id": "e5d504b2-7610-4fda-a1ea-a75c2aa45c68",
   "metadata": {},
   "source": [
    "### Q14. How do outliers affect measures of central tendency and dispersion? Provide an example."
   ]
  },
  {
   "cell_type": "markdown",
   "id": "d4704cca-e603-4688-a2fe-62c13f367edb",
   "metadata": {},
   "source": [
    "#### Effect of Outliers:\n",
    "\n",
    "* Central Tendency: Outliers can significantly affect the mean but have minimal impact on the median and mode.\n",
    "\n",
    "* Dispersion: Outliers can increase the range and standard deviation, indicating greater spread.\n",
    "\n",
    "##### Example:\n",
    "\n",
    "* Consider the dataset [1,2,3,4,100]. The mean is heavily influenced by the outlier (100), resulting in a mean of 22. However, the median remains 3, providing a more robust measure of central tendency. The range and standard deviation are also inflated due to the outlier"
   ]
  },
  {
   "cell_type": "markdown",
   "id": "f10bc846-9186-46f6-b5e8-a79a2fd63d99",
   "metadata": {},
   "source": []
  }
 ],
 "metadata": {
  "kernelspec": {
   "display_name": "Python 3 (ipykernel)",
   "language": "python",
   "name": "python3"
  },
  "language_info": {
   "codemirror_mode": {
    "name": "ipython",
    "version": 3
   },
   "file_extension": ".py",
   "mimetype": "text/x-python",
   "name": "python",
   "nbconvert_exporter": "python",
   "pygments_lexer": "ipython3",
   "version": "3.10.8"
  }
 },
 "nbformat": 4,
 "nbformat_minor": 5
}
